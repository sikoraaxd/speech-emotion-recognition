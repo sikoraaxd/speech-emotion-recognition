{
 "cells": [
  {
   "cell_type": "code",
   "execution_count": 1,
   "metadata": {},
   "outputs": [],
   "source": [
    "import torch\n",
    "import torch.nn as nn\n",
    "from torch.utils.data import Dataset, DataLoader\n",
    "import numpy as np\n",
    "import os\n",
    "import pathlib\n",
    "import tqdm\n",
    "import util\n",
    "\n",
    "EPOCHS = 100"
   ]
  },
  {
   "attachments": {},
   "cell_type": "markdown",
   "metadata": {},
   "source": [
    "# PyTorch"
   ]
  },
  {
   "cell_type": "code",
   "execution_count": 2,
   "metadata": {},
   "outputs": [],
   "source": [
    "class AudioDataset(Dataset):\n",
    "    def __init__(self, dataset_path: str) -> None:\n",
    "        self.dataset_path = pathlib.Path(dataset_path)\n",
    "        self.file_paths = []\n",
    "        self.labels = []\n",
    "\n",
    "        self.duration = 10000\n",
    "        self.sr = 44100\n",
    "        self.channel = 2\n",
    "        self.shift_pct = 0.4\n",
    "\n",
    "        self.labels_meaning = {\n",
    "            0: 'нейтрально',\n",
    "            1: 'спокойно',\n",
    "            2: 'счастливо',\n",
    "            3: 'грустно',\n",
    "            4: 'сердито',\n",
    "            5: 'напуганно',\n",
    "            6: 'недовольно',\n",
    "            7: 'удивлённо'\n",
    "        }\n",
    "\n",
    "        for elem in os.listdir(self.dataset_path):\n",
    "            dirpath = self.dataset_path.joinpath(elem)\n",
    "            for audio in os.listdir(dirpath):\n",
    "                audiopath = dirpath.joinpath(audio)\n",
    "                self.file_paths.append(audiopath)\n",
    "                emotion = int(audio.split('-')[2])-1\n",
    "                self.labels.append(emotion)\n",
    "\n",
    "\n",
    "    def __len__(self) -> int:\n",
    "        return len(self.labels)\n",
    "    \n",
    "\n",
    "    def __getitem__(self, idx: int) -> tuple[torch.Tensor, torch.Tensor]:\n",
    "        aud = util.open(self.file_paths[idx])\n",
    "  \n",
    "        reaud = util.resample(aud, self.sr)\n",
    "        rechan = util.rechannel(reaud, self.channel)\n",
    "\n",
    "        dur_aud = util.pad_trunc(rechan, self.duration)\n",
    "        shift_aud = util.time_shift(dur_aud, self.shift_pct)\n",
    "        sgram = util.spectrogram(shift_aud, n_mels=64, n_fft=1024, hop_len=None)\n",
    "        aug_sgram = util.spectro_augment(sgram, max_mask_pct=0.1, n_freq_masks=2, n_time_masks=2)\n",
    "        label = torch.tensor(self.labels[idx])\n",
    "\n",
    "        return aug_sgram, label"
   ]
  },
  {
   "cell_type": "code",
   "execution_count": 3,
   "metadata": {},
   "outputs": [],
   "source": [
    "train_dataset = AudioDataset('./dataset/train')\n",
    "test_dataset = AudioDataset('./dataset/test')\n",
    "\n",
    "train_dataloader = DataLoader(train_dataset, batch_size=8, shuffle=True)\n",
    "test_dataloader = DataLoader(test_dataset, batch_size=8, shuffle=True)"
   ]
  },
  {
   "cell_type": "code",
   "execution_count": 4,
   "metadata": {},
   "outputs": [],
   "source": [
    "class SpeechEmotionClassifier(nn.Module):\n",
    "    def __init__(self):\n",
    "        super().__init__()\n",
    "        conv_layers = []\n",
    "\n",
    "        self.conv1 = nn.Conv2d(2, 32, kernel_size=5, stride=2, padding=2)\n",
    "        self.relu1 = nn.ReLU()\n",
    "        self.bn1 = nn.BatchNorm2d(32)\n",
    "        conv_layers += [self.conv1, self.relu1, self.bn1]\n",
    "\n",
    "        self.conv2 = nn.Conv2d(32, 128, kernel_size=3, stride=2, padding=1)\n",
    "        self.relu2 = nn.ReLU()\n",
    "        self.bn2 = nn.BatchNorm2d(128)\n",
    "        conv_layers += [self.conv2, self.relu2, self.bn2]\n",
    "\n",
    "        self.conv3 = nn.Conv2d(128, 256, kernel_size=3, stride=2, padding=1)\n",
    "        self.relu3 = nn.ReLU()\n",
    "        self.bn3 = nn.BatchNorm2d(256)\n",
    "        conv_layers += [self.conv3, self.relu3, self.bn3]\n",
    "\n",
    "        self.conv4 = nn.Conv2d(256, 512, kernel_size=3, stride=2, padding=1)\n",
    "        self.relu4 = nn.ReLU()\n",
    "        self.bn4 = nn.BatchNorm2d(512)\n",
    "        conv_layers += [self.conv4, self.relu4, self.bn4]\n",
    "\n",
    "        self.conv = nn.Sequential(*conv_layers)\n",
    "\n",
    "        self.adapt_avg_pool = nn.AdaptiveAvgPool2d(output_size=1)\n",
    "        self.fc = nn.Linear(in_features=512, out_features=8)\n",
    "\n",
    "        \n",
    "    def forward(self, x: torch.Tensor) -> torch.Tensor:\n",
    "        x = self.conv(x)\n",
    "        x = self.adapt_avg_pool(x)\n",
    "        x = x.flatten(start_dim=1)\n",
    "        x = self.fc(x)\n",
    "        return x"
   ]
  },
  {
   "cell_type": "code",
   "execution_count": 104,
   "metadata": {},
   "outputs": [],
   "source": [
    "model = SpeechEmotionClassifier()\n",
    "criterion = nn.CrossEntropyLoss()\n",
    "optimizer = torch.optim.Adam(model.parameters(), lr=0.001)"
   ]
  },
  {
   "cell_type": "code",
   "execution_count": 105,
   "metadata": {},
   "outputs": [
    {
     "name": "stderr",
     "output_type": "stream",
     "text": [
      "  1%|          | 1/100 [00:57<1:34:16, 57.14s/it]"
     ]
    },
    {
     "name": "stdout",
     "output_type": "stream",
     "text": [
      "Эпоха: 0. Ошибка тестовая: 1.919232652366506. Ошибка валидационная: 1.8212080299854279\n"
     ]
    },
    {
     "name": "stderr",
     "output_type": "stream",
     "text": [
      " 11%|█         | 11/100 [09:58<1:20:05, 53.99s/it]"
     ]
    },
    {
     "name": "stdout",
     "output_type": "stream",
     "text": [
      "Эпоха: 10. Ошибка тестовая: 1.5904662829603073. Ошибка валидационная: 1.3694091141223907\n"
     ]
    },
    {
     "name": "stderr",
     "output_type": "stream",
     "text": [
      " 21%|██        | 21/100 [18:58<1:10:57, 53.90s/it]"
     ]
    },
    {
     "name": "stdout",
     "output_type": "stream",
     "text": [
      "Эпоха: 20. Ошибка тестовая: 1.1718974480394684. Ошибка валидационная: 1.1339569613337517\n"
     ]
    },
    {
     "name": "stderr",
     "output_type": "stream",
     "text": [
      " 31%|███       | 31/100 [27:57<1:01:56, 53.87s/it]"
     ]
    },
    {
     "name": "stdout",
     "output_type": "stream",
     "text": [
      "Эпоха: 30. Ошибка тестовая: 0.8645320017041499. Ошибка валидационная: 0.9403711035847664\n"
     ]
    },
    {
     "name": "stderr",
     "output_type": "stream",
     "text": [
      " 41%|████      | 41/100 [36:58<53:09, 54.05s/it]  "
     ]
    },
    {
     "name": "stdout",
     "output_type": "stream",
     "text": [
      "Эпоха: 40. Ошибка тестовая: 0.6356431732890923. Ошибка валидационная: 0.7042659409344196\n"
     ]
    },
    {
     "name": "stderr",
     "output_type": "stream",
     "text": [
      " 51%|█████     | 51/100 [47:02<48:33, 59.47s/it]"
     ]
    },
    {
     "name": "stdout",
     "output_type": "stream",
     "text": [
      "Эпоха: 50. Ошибка тестовая: 0.43553579887213734. Ошибка валидационная: 0.48439713194966316\n"
     ]
    },
    {
     "name": "stderr",
     "output_type": "stream",
     "text": [
      " 61%|██████    | 61/100 [56:44<37:38, 57.92s/it]"
     ]
    },
    {
     "name": "stdout",
     "output_type": "stream",
     "text": [
      "Эпоха: 60. Ошибка тестовая: 0.3537190649227772. Ошибка валидационная: 0.733573067933321\n"
     ]
    },
    {
     "name": "stderr",
     "output_type": "stream",
     "text": [
      " 71%|███████   | 71/100 [1:06:41<29:06, 60.23s/it]"
     ]
    },
    {
     "name": "stdout",
     "output_type": "stream",
     "text": [
      "Эпоха: 70. Ошибка тестовая: 0.2861375659381206. Ошибка валидационная: 0.7428099140524864\n"
     ]
    },
    {
     "name": "stderr",
     "output_type": "stream",
     "text": [
      " 81%|████████  | 81/100 [1:16:47<19:09, 60.51s/it]"
     ]
    },
    {
     "name": "stdout",
     "output_type": "stream",
     "text": [
      "Эпоха: 80. Ошибка тестовая: 0.2533519707264842. Ошибка валидационная: 0.9981588162481785\n"
     ]
    },
    {
     "name": "stderr",
     "output_type": "stream",
     "text": [
      " 91%|█████████ | 91/100 [1:26:38<08:50, 58.98s/it]"
     ]
    },
    {
     "name": "stdout",
     "output_type": "stream",
     "text": [
      "Эпоха: 90. Ошибка тестовая: 0.2241477800554709. Ошибка валидационная: 0.7096858527511358\n"
     ]
    },
    {
     "name": "stderr",
     "output_type": "stream",
     "text": [
      "100%|██████████| 100/100 [1:35:35<00:00, 57.35s/it]\n"
     ]
    }
   ],
   "source": [
    "best_model = None\n",
    "best_loss = float('inf')\n",
    "\n",
    "train_losses = []\n",
    "validation_losses = []\n",
    "\n",
    "for epoch in tqdm.tqdm(range(EPOCHS)):\n",
    "    train_loss = 0\n",
    "    loader_iterator = 0\n",
    "\n",
    "    model.train()\n",
    "    for batch in train_dataloader:\n",
    "        features, labels = batch\n",
    "        optimizer.zero_grad()\n",
    "        y_pred = model(features)\n",
    "        loss = criterion(y_pred, labels)\n",
    "        train_loss += loss.item()\n",
    "        loss.backward()\n",
    "        optimizer.step()\n",
    "        loader_iterator += 1\n",
    "    train_loss /= loader_iterator\n",
    "    train_losses.append(train_loss)\n",
    "\n",
    "    val_loss = 0\n",
    "    loader_iterator = 0\n",
    "\n",
    "    model.eval()\n",
    "    for batch in test_dataloader:\n",
    "        features, labels = batch\n",
    "        y_pred = model(features)\n",
    "        loss = criterion(y_pred, labels)\n",
    "        val_loss += loss.item()\n",
    "        loader_iterator += 1\n",
    "    \n",
    "    val_loss /= loader_iterator\n",
    "    validation_losses.append(val_loss)\n",
    "\n",
    "    if val_loss < best_loss:\n",
    "        best_loss = val_loss\n",
    "        best_model = model.state_dict()\n",
    "    \n",
    "    if epoch % 10 == 0:\n",
    "        print(f'Эпоха: {epoch}. Ошибка тестовая: {train_loss}. Ошибка валидационная: {val_loss}')"
   ]
  },
  {
   "cell_type": "code",
   "execution_count": 142,
   "metadata": {},
   "outputs": [
    {
     "data": {
      "application/vnd.plotly.v1+json": {
       "config": {
        "linkText": "Export to plot.ly",
        "plotlyServerURL": "https://plot.ly",
        "showLink": false
       },
       "data": [
        {
         "name": "Тренировочная ошибка",
         "type": "scatter",
         "x": [
          0,
          1,
          2,
          3,
          4,
          5,
          6,
          7,
          8,
          9,
          10,
          11,
          12,
          13,
          14,
          15,
          16,
          17,
          18,
          19,
          20,
          21,
          22,
          23,
          24,
          25,
          26,
          27,
          28,
          29,
          30,
          31,
          32,
          33,
          34,
          35,
          36,
          37,
          38,
          39,
          40,
          41,
          42,
          43,
          44,
          45,
          46,
          47,
          48,
          49,
          50,
          51,
          52,
          53,
          54,
          55,
          56,
          57,
          58,
          59,
          60,
          61,
          62,
          63,
          64,
          65,
          66,
          67,
          68,
          69,
          70,
          71,
          72,
          73,
          74,
          75,
          76,
          77,
          78,
          79,
          80,
          81,
          82,
          83,
          84,
          85,
          86,
          87,
          88,
          89,
          90,
          91,
          92,
          93,
          94,
          95,
          96,
          97,
          98,
          99
         ],
         "y": [
          1.919232652366506,
          1.8427241413579512,
          1.8411124448555742,
          1.7720486869701761,
          1.7605295208837255,
          1.7131068878780211,
          1.7158616188633649,
          1.6474147228836324,
          1.6532411268680771,
          1.5919926438717484,
          1.5904662829603073,
          1.563534677028656,
          1.5224936614835882,
          1.4872427327784499,
          1.4307827415493872,
          1.4014677836026759,
          1.3504015996276988,
          1.306256663248029,
          1.2698486623047405,
          1.2392732135822317,
          1.1718974480394684,
          1.1421781197793222,
          1.1100943874072478,
          1.0696857533702961,
          1.0477895262957997,
          0.9861995098907823,
          0.9961133762935682,
          0.8906430545225309,
          0.9118089339981189,
          0.90611377056968,
          0.8645320017041499,
          0.8138693896676764,
          0.8079277534533098,
          0.7571018333035398,
          0.7236570988087295,
          0.7211247864313898,
          0.7165422353441315,
          0.7004083815337605,
          0.6619810536503792,
          0.6613933354443897,
          0.6356431732890923,
          0.608456695269298,
          0.6002967465302848,
          0.5214023229186935,
          0.5359614049165236,
          0.541803889256509,
          0.5024082240341716,
          0.4700702014083118,
          0.46368921384473755,
          0.4269259694123888,
          0.43553579887213734,
          0.43172532690398263,
          0.41800684487242573,
          0.40783509146960484,
          0.38175202219214055,
          0.4212352540451667,
          0.4078367748055499,
          0.36028536197034955,
          0.381215429676406,
          0.37305043798176885,
          0.3537190649227772,
          0.32538231931669864,
          0.3386423429205066,
          0.3381535440920233,
          0.3477315221229471,
          0.3086875421398809,
          0.32369304104368984,
          0.29274784585170316,
          0.3086509460454128,
          0.27242392157150613,
          0.2861375659381206,
          0.29714527806385577,
          0.2848317840195805,
          0.26853495988607234,
          0.26482972531240284,
          0.2813988081798646,
          0.2751975748418814,
          0.2580881290773005,
          0.2945107340198979,
          0.2532850937982429,
          0.2533519707264842,
          0.22392682207888262,
          0.20000632263106333,
          0.22009178809821606,
          0.24540400724707312,
          0.23637560227713575,
          0.2654138255751331,
          0.23577106720094995,
          0.2173895726472979,
          0.21651783459039264,
          0.2241477800554709,
          0.24073971898666438,
          0.205076254037548,
          0.24736141378189183,
          0.19539400151893066,
          0.19038774180522114,
          0.20893480788614882,
          0.233014160304228,
          0.23123781416683614,
          0.1816613701444033
         ]
        },
        {
         "name": "Валидационная ошибка",
         "type": "scatter",
         "x": [
          0,
          1,
          2,
          3,
          4,
          5,
          6,
          7,
          8,
          9,
          10,
          11,
          12,
          13,
          14,
          15,
          16,
          17,
          18,
          19,
          20,
          21,
          22,
          23,
          24,
          25,
          26,
          27,
          28,
          29,
          30,
          31,
          32,
          33,
          34,
          35,
          36,
          37,
          38,
          39,
          40,
          41,
          42,
          43,
          44,
          45,
          46,
          47,
          48,
          49,
          50,
          51,
          52,
          53,
          54,
          55,
          56,
          57,
          58,
          59,
          60,
          61,
          62,
          63,
          64,
          65,
          66,
          67,
          68,
          69,
          70,
          71,
          72,
          73,
          74,
          75,
          76,
          77,
          78,
          79,
          80,
          81,
          82,
          83,
          84,
          85,
          86,
          87,
          88,
          89,
          90,
          91,
          92,
          93,
          94,
          95,
          96,
          97,
          98,
          99
         ],
         "y": [
          1.8212080299854279,
          1.6125603318214417,
          1.4987205564975739,
          1.5165160596370697,
          1.5731050074100494,
          1.5363254249095917,
          1.4678673222661018,
          1.6864130347967148,
          1.5005302280187607,
          1.7239503860473633,
          1.3694091141223907,
          1.237296313047409,
          1.3569647669792175,
          1.3737529665231705,
          1.367561087012291,
          1.2635916098952293,
          1.1583597883582115,
          1.2454344257712364,
          1.0351156368851662,
          1.180305577814579,
          1.1339569613337517,
          1.1085294410586357,
          0.9490693286061287,
          0.9540917724370956,
          0.9920689649879932,
          0.978305883705616,
          0.7852513045072556,
          0.9525171294808388,
          1.0183250699192286,
          1.0133365169167519,
          0.9403711035847664,
          0.7646895088255405,
          1.0017078556120396,
          0.8329834956675768,
          1.0135316848754883,
          0.963494073599577,
          0.9576765857636929,
          0.7083449847996235,
          0.7336331531405449,
          0.8364787772297859,
          0.7042659409344196,
          0.7591005861759186,
          1.6358820870518684,
          0.977543787099421,
          0.6769196279346943,
          0.8037718124687672,
          0.6597441881895065,
          0.7009803205728531,
          0.8628417626023293,
          0.6009593028575182,
          0.48439713194966316,
          0.7406925391405821,
          0.9203892461955547,
          1.0125425532460213,
          0.7944901920855045,
          0.9139232188463211,
          1.0531452875584364,
          0.8426265344023705,
          0.816732756793499,
          0.8620601510629058,
          0.733573067933321,
          0.7896961607038975,
          1.0543333776295185,
          0.6238691993057728,
          0.8165457006543875,
          0.7964303828775883,
          0.8282852126285434,
          0.9935347158461809,
          0.6354803517460823,
          0.551130454055965,
          0.7428099140524864,
          0.8440675809979439,
          1.070434957742691,
          0.6577928811311722,
          0.6434320705011487,
          0.8615580834448338,
          0.8876106757670641,
          0.9017982929944992,
          0.7991045787930489,
          0.6118202246725559,
          0.9981588162481785,
          0.7320295460522175,
          0.8107249941676855,
          1.2270202543586493,
          0.9775839932262897,
          0.648443091660738,
          0.6431413237005472,
          0.5526397870853543,
          0.8374611623585224,
          0.662286648992449,
          0.7096858527511358,
          0.9231463484466076,
          0.8242140728980303,
          0.6290826899930835,
          0.7920684134587646,
          0.9520568456500769,
          0.9200575686991215,
          1.3068521367385983,
          1.1364587359130383,
          0.7204118371009827
         ]
        }
       ],
       "layout": {
        "hovermode": "x",
        "template": {
         "data": {
          "bar": [
           {
            "error_x": {
             "color": "#2a3f5f"
            },
            "error_y": {
             "color": "#2a3f5f"
            },
            "marker": {
             "line": {
              "color": "#E5ECF6",
              "width": 0.5
             },
             "pattern": {
              "fillmode": "overlay",
              "size": 10,
              "solidity": 0.2
             }
            },
            "type": "bar"
           }
          ],
          "barpolar": [
           {
            "marker": {
             "line": {
              "color": "#E5ECF6",
              "width": 0.5
             },
             "pattern": {
              "fillmode": "overlay",
              "size": 10,
              "solidity": 0.2
             }
            },
            "type": "barpolar"
           }
          ],
          "carpet": [
           {
            "aaxis": {
             "endlinecolor": "#2a3f5f",
             "gridcolor": "white",
             "linecolor": "white",
             "minorgridcolor": "white",
             "startlinecolor": "#2a3f5f"
            },
            "baxis": {
             "endlinecolor": "#2a3f5f",
             "gridcolor": "white",
             "linecolor": "white",
             "minorgridcolor": "white",
             "startlinecolor": "#2a3f5f"
            },
            "type": "carpet"
           }
          ],
          "choropleth": [
           {
            "colorbar": {
             "outlinewidth": 0,
             "ticks": ""
            },
            "type": "choropleth"
           }
          ],
          "contour": [
           {
            "colorbar": {
             "outlinewidth": 0,
             "ticks": ""
            },
            "colorscale": [
             [
              0,
              "#0d0887"
             ],
             [
              0.1111111111111111,
              "#46039f"
             ],
             [
              0.2222222222222222,
              "#7201a8"
             ],
             [
              0.3333333333333333,
              "#9c179e"
             ],
             [
              0.4444444444444444,
              "#bd3786"
             ],
             [
              0.5555555555555556,
              "#d8576b"
             ],
             [
              0.6666666666666666,
              "#ed7953"
             ],
             [
              0.7777777777777778,
              "#fb9f3a"
             ],
             [
              0.8888888888888888,
              "#fdca26"
             ],
             [
              1,
              "#f0f921"
             ]
            ],
            "type": "contour"
           }
          ],
          "contourcarpet": [
           {
            "colorbar": {
             "outlinewidth": 0,
             "ticks": ""
            },
            "type": "contourcarpet"
           }
          ],
          "heatmap": [
           {
            "colorbar": {
             "outlinewidth": 0,
             "ticks": ""
            },
            "colorscale": [
             [
              0,
              "#0d0887"
             ],
             [
              0.1111111111111111,
              "#46039f"
             ],
             [
              0.2222222222222222,
              "#7201a8"
             ],
             [
              0.3333333333333333,
              "#9c179e"
             ],
             [
              0.4444444444444444,
              "#bd3786"
             ],
             [
              0.5555555555555556,
              "#d8576b"
             ],
             [
              0.6666666666666666,
              "#ed7953"
             ],
             [
              0.7777777777777778,
              "#fb9f3a"
             ],
             [
              0.8888888888888888,
              "#fdca26"
             ],
             [
              1,
              "#f0f921"
             ]
            ],
            "type": "heatmap"
           }
          ],
          "heatmapgl": [
           {
            "colorbar": {
             "outlinewidth": 0,
             "ticks": ""
            },
            "colorscale": [
             [
              0,
              "#0d0887"
             ],
             [
              0.1111111111111111,
              "#46039f"
             ],
             [
              0.2222222222222222,
              "#7201a8"
             ],
             [
              0.3333333333333333,
              "#9c179e"
             ],
             [
              0.4444444444444444,
              "#bd3786"
             ],
             [
              0.5555555555555556,
              "#d8576b"
             ],
             [
              0.6666666666666666,
              "#ed7953"
             ],
             [
              0.7777777777777778,
              "#fb9f3a"
             ],
             [
              0.8888888888888888,
              "#fdca26"
             ],
             [
              1,
              "#f0f921"
             ]
            ],
            "type": "heatmapgl"
           }
          ],
          "histogram": [
           {
            "marker": {
             "pattern": {
              "fillmode": "overlay",
              "size": 10,
              "solidity": 0.2
             }
            },
            "type": "histogram"
           }
          ],
          "histogram2d": [
           {
            "colorbar": {
             "outlinewidth": 0,
             "ticks": ""
            },
            "colorscale": [
             [
              0,
              "#0d0887"
             ],
             [
              0.1111111111111111,
              "#46039f"
             ],
             [
              0.2222222222222222,
              "#7201a8"
             ],
             [
              0.3333333333333333,
              "#9c179e"
             ],
             [
              0.4444444444444444,
              "#bd3786"
             ],
             [
              0.5555555555555556,
              "#d8576b"
             ],
             [
              0.6666666666666666,
              "#ed7953"
             ],
             [
              0.7777777777777778,
              "#fb9f3a"
             ],
             [
              0.8888888888888888,
              "#fdca26"
             ],
             [
              1,
              "#f0f921"
             ]
            ],
            "type": "histogram2d"
           }
          ],
          "histogram2dcontour": [
           {
            "colorbar": {
             "outlinewidth": 0,
             "ticks": ""
            },
            "colorscale": [
             [
              0,
              "#0d0887"
             ],
             [
              0.1111111111111111,
              "#46039f"
             ],
             [
              0.2222222222222222,
              "#7201a8"
             ],
             [
              0.3333333333333333,
              "#9c179e"
             ],
             [
              0.4444444444444444,
              "#bd3786"
             ],
             [
              0.5555555555555556,
              "#d8576b"
             ],
             [
              0.6666666666666666,
              "#ed7953"
             ],
             [
              0.7777777777777778,
              "#fb9f3a"
             ],
             [
              0.8888888888888888,
              "#fdca26"
             ],
             [
              1,
              "#f0f921"
             ]
            ],
            "type": "histogram2dcontour"
           }
          ],
          "mesh3d": [
           {
            "colorbar": {
             "outlinewidth": 0,
             "ticks": ""
            },
            "type": "mesh3d"
           }
          ],
          "parcoords": [
           {
            "line": {
             "colorbar": {
              "outlinewidth": 0,
              "ticks": ""
             }
            },
            "type": "parcoords"
           }
          ],
          "pie": [
           {
            "automargin": true,
            "type": "pie"
           }
          ],
          "scatter": [
           {
            "fillpattern": {
             "fillmode": "overlay",
             "size": 10,
             "solidity": 0.2
            },
            "type": "scatter"
           }
          ],
          "scatter3d": [
           {
            "line": {
             "colorbar": {
              "outlinewidth": 0,
              "ticks": ""
             }
            },
            "marker": {
             "colorbar": {
              "outlinewidth": 0,
              "ticks": ""
             }
            },
            "type": "scatter3d"
           }
          ],
          "scattercarpet": [
           {
            "marker": {
             "colorbar": {
              "outlinewidth": 0,
              "ticks": ""
             }
            },
            "type": "scattercarpet"
           }
          ],
          "scattergeo": [
           {
            "marker": {
             "colorbar": {
              "outlinewidth": 0,
              "ticks": ""
             }
            },
            "type": "scattergeo"
           }
          ],
          "scattergl": [
           {
            "marker": {
             "colorbar": {
              "outlinewidth": 0,
              "ticks": ""
             }
            },
            "type": "scattergl"
           }
          ],
          "scattermapbox": [
           {
            "marker": {
             "colorbar": {
              "outlinewidth": 0,
              "ticks": ""
             }
            },
            "type": "scattermapbox"
           }
          ],
          "scatterpolar": [
           {
            "marker": {
             "colorbar": {
              "outlinewidth": 0,
              "ticks": ""
             }
            },
            "type": "scatterpolar"
           }
          ],
          "scatterpolargl": [
           {
            "marker": {
             "colorbar": {
              "outlinewidth": 0,
              "ticks": ""
             }
            },
            "type": "scatterpolargl"
           }
          ],
          "scatterternary": [
           {
            "marker": {
             "colorbar": {
              "outlinewidth": 0,
              "ticks": ""
             }
            },
            "type": "scatterternary"
           }
          ],
          "surface": [
           {
            "colorbar": {
             "outlinewidth": 0,
             "ticks": ""
            },
            "colorscale": [
             [
              0,
              "#0d0887"
             ],
             [
              0.1111111111111111,
              "#46039f"
             ],
             [
              0.2222222222222222,
              "#7201a8"
             ],
             [
              0.3333333333333333,
              "#9c179e"
             ],
             [
              0.4444444444444444,
              "#bd3786"
             ],
             [
              0.5555555555555556,
              "#d8576b"
             ],
             [
              0.6666666666666666,
              "#ed7953"
             ],
             [
              0.7777777777777778,
              "#fb9f3a"
             ],
             [
              0.8888888888888888,
              "#fdca26"
             ],
             [
              1,
              "#f0f921"
             ]
            ],
            "type": "surface"
           }
          ],
          "table": [
           {
            "cells": {
             "fill": {
              "color": "#EBF0F8"
             },
             "line": {
              "color": "white"
             }
            },
            "header": {
             "fill": {
              "color": "#C8D4E3"
             },
             "line": {
              "color": "white"
             }
            },
            "type": "table"
           }
          ]
         },
         "layout": {
          "annotationdefaults": {
           "arrowcolor": "#2a3f5f",
           "arrowhead": 0,
           "arrowwidth": 1
          },
          "autotypenumbers": "strict",
          "coloraxis": {
           "colorbar": {
            "outlinewidth": 0,
            "ticks": ""
           }
          },
          "colorscale": {
           "diverging": [
            [
             0,
             "#8e0152"
            ],
            [
             0.1,
             "#c51b7d"
            ],
            [
             0.2,
             "#de77ae"
            ],
            [
             0.3,
             "#f1b6da"
            ],
            [
             0.4,
             "#fde0ef"
            ],
            [
             0.5,
             "#f7f7f7"
            ],
            [
             0.6,
             "#e6f5d0"
            ],
            [
             0.7,
             "#b8e186"
            ],
            [
             0.8,
             "#7fbc41"
            ],
            [
             0.9,
             "#4d9221"
            ],
            [
             1,
             "#276419"
            ]
           ],
           "sequential": [
            [
             0,
             "#0d0887"
            ],
            [
             0.1111111111111111,
             "#46039f"
            ],
            [
             0.2222222222222222,
             "#7201a8"
            ],
            [
             0.3333333333333333,
             "#9c179e"
            ],
            [
             0.4444444444444444,
             "#bd3786"
            ],
            [
             0.5555555555555556,
             "#d8576b"
            ],
            [
             0.6666666666666666,
             "#ed7953"
            ],
            [
             0.7777777777777778,
             "#fb9f3a"
            ],
            [
             0.8888888888888888,
             "#fdca26"
            ],
            [
             1,
             "#f0f921"
            ]
           ],
           "sequentialminus": [
            [
             0,
             "#0d0887"
            ],
            [
             0.1111111111111111,
             "#46039f"
            ],
            [
             0.2222222222222222,
             "#7201a8"
            ],
            [
             0.3333333333333333,
             "#9c179e"
            ],
            [
             0.4444444444444444,
             "#bd3786"
            ],
            [
             0.5555555555555556,
             "#d8576b"
            ],
            [
             0.6666666666666666,
             "#ed7953"
            ],
            [
             0.7777777777777778,
             "#fb9f3a"
            ],
            [
             0.8888888888888888,
             "#fdca26"
            ],
            [
             1,
             "#f0f921"
            ]
           ]
          },
          "colorway": [
           "#636efa",
           "#EF553B",
           "#00cc96",
           "#ab63fa",
           "#FFA15A",
           "#19d3f3",
           "#FF6692",
           "#B6E880",
           "#FF97FF",
           "#FECB52"
          ],
          "font": {
           "color": "#2a3f5f"
          },
          "geo": {
           "bgcolor": "white",
           "lakecolor": "white",
           "landcolor": "#E5ECF6",
           "showlakes": true,
           "showland": true,
           "subunitcolor": "white"
          },
          "hoverlabel": {
           "align": "left"
          },
          "hovermode": "closest",
          "mapbox": {
           "style": "light"
          },
          "paper_bgcolor": "white",
          "plot_bgcolor": "#E5ECF6",
          "polar": {
           "angularaxis": {
            "gridcolor": "white",
            "linecolor": "white",
            "ticks": ""
           },
           "bgcolor": "#E5ECF6",
           "radialaxis": {
            "gridcolor": "white",
            "linecolor": "white",
            "ticks": ""
           }
          },
          "scene": {
           "xaxis": {
            "backgroundcolor": "#E5ECF6",
            "gridcolor": "white",
            "gridwidth": 2,
            "linecolor": "white",
            "showbackground": true,
            "ticks": "",
            "zerolinecolor": "white"
           },
           "yaxis": {
            "backgroundcolor": "#E5ECF6",
            "gridcolor": "white",
            "gridwidth": 2,
            "linecolor": "white",
            "showbackground": true,
            "ticks": "",
            "zerolinecolor": "white"
           },
           "zaxis": {
            "backgroundcolor": "#E5ECF6",
            "gridcolor": "white",
            "gridwidth": 2,
            "linecolor": "white",
            "showbackground": true,
            "ticks": "",
            "zerolinecolor": "white"
           }
          },
          "shapedefaults": {
           "line": {
            "color": "#2a3f5f"
           }
          },
          "ternary": {
           "aaxis": {
            "gridcolor": "white",
            "linecolor": "white",
            "ticks": ""
           },
           "baxis": {
            "gridcolor": "white",
            "linecolor": "white",
            "ticks": ""
           },
           "bgcolor": "#E5ECF6",
           "caxis": {
            "gridcolor": "white",
            "linecolor": "white",
            "ticks": ""
           }
          },
          "title": {
           "x": 0.05
          },
          "xaxis": {
           "automargin": true,
           "gridcolor": "white",
           "linecolor": "white",
           "ticks": "",
           "title": {
            "standoff": 15
           },
           "zerolinecolor": "white",
           "zerolinewidth": 2
          },
          "yaxis": {
           "automargin": true,
           "gridcolor": "white",
           "linecolor": "white",
           "ticks": "",
           "title": {
            "standoff": 15
           },
           "zerolinecolor": "white",
           "zerolinewidth": 2
          }
         }
        },
        "xaxis": {
         "title": {
          "text": "Эпохи"
         }
        },
        "yaxis": {
         "title": {
          "text": "Ошибка"
         }
        }
       }
      }
     },
     "metadata": {},
     "output_type": "display_data"
    }
   ],
   "source": [
    "import plotly.graph_objects as go\n",
    "import plotly.offline as pyo\n",
    "\n",
    "fig = go.Figure()\n",
    "\n",
    "fig.add_traces(go.Scatter(x = np.arange(100), y = train_losses, name=\"Тренировочная ошибка\"))\n",
    "fig.add_traces(go.Scatter(x = np.arange(100), y = validation_losses, name=\"Валидационная ошибка\"))\n",
    "fig.update_layout(\n",
    "    hovermode='x',\n",
    "    xaxis_title=\"Эпохи\",\n",
    "    yaxis_title=\"Ошибка\"\n",
    ")\n",
    "\n",
    "pyo.iplot(fig)"
   ]
  },
  {
   "cell_type": "code",
   "execution_count": 19,
   "metadata": {},
   "outputs": [
    {
     "name": "stdout",
     "output_type": "stream",
     "text": [
      "Точность: 80.0%\n"
     ]
    }
   ],
   "source": [
    "from torchmetrics import Accuracy\n",
    "\n",
    "\n",
    "model = SpeechEmotionClassifier()\n",
    "model.load_state_dict(torch.load('./speech_emotion_recognizer_model.pth'))\n",
    "\n",
    "X_test, y_test = [], []\n",
    "\n",
    "for data in test_dataset:\n",
    "    x, y = data\n",
    "    X_test.append(x)\n",
    "    y_test.append(y)\n",
    "\n",
    "X_test = torch.stack(X_test)\n",
    "y_test = torch.tensor(y_test)\n",
    "\n",
    "accuracy = Accuracy('multiclass', num_classes=8)\n",
    "with torch.no_grad():\n",
    "    y_pred = model(X_test)\n",
    "    y_pred = y_pred.argmax(dim=1)\n",
    "    acc = accuracy(y_pred, y_test)\n",
    "\n",
    "print(f\"Точность: {round(acc.item(), 2)*100}%\")"
   ]
  },
  {
   "cell_type": "code",
   "execution_count": 143,
   "metadata": {},
   "outputs": [],
   "source": [
    "torch.save(model.state_dict(), 'speech_emotion_recognizer_model.pth')"
   ]
  }
 ],
 "metadata": {
  "kernelspec": {
   "display_name": "Python 3",
   "language": "python",
   "name": "python3"
  },
  "language_info": {
   "codemirror_mode": {
    "name": "ipython",
    "version": 3
   },
   "file_extension": ".py",
   "mimetype": "text/x-python",
   "name": "python",
   "nbconvert_exporter": "python",
   "pygments_lexer": "ipython3",
   "version": "3.9.5"
  },
  "orig_nbformat": 4
 },
 "nbformat": 4,
 "nbformat_minor": 2
}
